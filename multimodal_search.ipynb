{
 "cells": [
  {
   "cell_type": "markdown",
   "metadata": {},
   "source": [
    "Connect to Weaviate"
   ]
  },
  {
   "cell_type": "code",
   "execution_count": 4,
   "metadata": {},
   "outputs": [
    {
     "data": {
      "text/plain": [
       "True"
      ]
     },
     "execution_count": 4,
     "metadata": {},
     "output_type": "execute_result"
    }
   ],
   "source": [
    "import weaviate\n",
    "\n",
    "client = weaviate.connect_to_local()\n",
    "\n",
    "client.is_ready()"
   ]
  },
  {
   "cell_type": "markdown",
   "metadata": {},
   "source": [
    "Creating a Collection in Weaviate"
   ]
  },
  {
   "cell_type": "code",
   "execution_count": 5,
   "metadata": {},
   "outputs": [
    {
     "name": "stdout",
     "output_type": "stream",
     "text": [
      "Collection created\n"
     ]
    }
   ],
   "source": [
    "import weaviate.classes.config as wc\n",
    "\n",
    "collection_name = \"DemoCollection\" # Replace collection name here\n",
    "\n",
    "if client.collections.exists(collection_name):\n",
    "    client.collections.delete(collection_name)\n",
    "\n",
    "client.collections.create(\n",
    "        name=collection_name,\n",
    "        properties=[\n",
    "            wc.Property(name=\"name\", data_type=wc.DataType.TEXT),\n",
    "            wc.Property(name=\"image\", data_type=wc.DataType.BLOB),\n",
    "        ],\n",
    "        # Define & configure the vectorizer module\n",
    "        vectorizer_config=wc.Configure.Vectorizer.multi2vec_clip(\n",
    "            image_fields=[wc.Multi2VecField(name=\"image\", weight=0.9)],    # 90% of the vector is from the image\n",
    "            text_fields=[wc.Multi2VecField(name=\"name\", weight=0.1)],      # 10% of the vector is from the name\n",
    "        ),\n",
    "    )\n",
    "print(\"Collection created\")\n",
    "\n",
    "# client.close()  # Close the connection & release resources"
   ]
  },
  {
   "cell_type": "code",
   "execution_count": 6,
   "metadata": {},
   "outputs": [],
   "source": [
    "import base64\n",
    "import os\n",
    "import requests\n",
    "\n",
    "# Helper function to convert file to base64 representation\n",
    "def to_base64(url_or_path):\n",
    "    if url_or_path.startswith('http://') or url_or_path.startswith('https://'):\n",
    "        # Handle URL\n",
    "        image_response = requests.get(url_or_path)\n",
    "        content = image_response.content\n",
    "    elif os.path.exists(url_or_path):\n",
    "        # Handle local file path\n",
    "        with open(url_or_path, 'rb') as image_file:\n",
    "            content = image_file.read()\n",
    "    else:\n",
    "        raise ValueError(\"The provided string is neither a valid URL nor a local file path.\")\n",
    "    \n",
    "    return base64.b64encode(content).decode(\"utf-8\")"
   ]
  },
  {
   "cell_type": "markdown",
   "metadata": {},
   "source": [
    "Downloading images using simple image search"
   ]
  },
  {
   "cell_type": "code",
   "execution_count": 7,
   "metadata": {},
   "outputs": [
    {
     "name": "stderr",
     "output_type": "stream",
     "text": [
      "[========================================================================] 100%\r"
     ]
    },
    {
     "name": "stdout",
     "output_type": "stream",
     "text": [
      "Image download and conversion process completed.\n"
     ]
    },
    {
     "name": "stderr",
     "output_type": "stream",
     "text": [
      "\n"
     ]
    }
   ],
   "source": [
    "import argparse\n",
    "from simple_image_download import simple_image_download as simp\n",
    "from PIL import Image\n",
    "import os\n",
    "\n",
    "def image_download(query, number=5):\n",
    "    # Initialize the argument parser\n",
    "    parser = argparse.ArgumentParser(description=\"Download images.\")\n",
    "    parser.add_argument('query', type=str, help='Search query for images')\n",
    "    parser.add_argument('number', type=int, nargs='?', default=5, help='Number of images to download (default: 5)')\n",
    "    args = parser.parse_args([query, str(number)])\n",
    "\n",
    "    # Extract arguments\n",
    "    search_query = args.query\n",
    "    num_images = args.number\n",
    "\n",
    "    # Initialize the simple image download instance\n",
    "    response = simp.simple_image_download\n",
    "\n",
    "    # Specify the directory where images will be downloaded\n",
    "    download_directory = 'downloads'\n",
    "\n",
    "    # Download images for the specified query\n",
    "    response().download(search_query, num_images)  # Download images for the search query\n",
    "\n",
    "# Example usage\n",
    "image_download(\"puppies\", 10)\n"
   ]
  }
 ],
 "metadata": {
  "kernelspec": {
   "display_name": "Python 3",
   "language": "python",
   "name": "python3"
  },
  "language_info": {
   "codemirror_mode": {
    "name": "ipython",
    "version": 3
   },
   "file_extension": ".py",
   "mimetype": "text/x-python",
   "name": "python",
   "nbconvert_exporter": "python",
   "pygments_lexer": "ipython3",
   "version": "3.12.3"
  }
 },
 "nbformat": 4,
 "nbformat_minor": 2
}
